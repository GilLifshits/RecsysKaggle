{
 "cells": [
  {
   "cell_type": "code",
   "id": "initial_id",
   "metadata": {
    "collapsed": true,
    "ExecuteTime": {
     "end_time": "2024-12-26T08:47:38.048116Z",
     "start_time": "2024-12-26T08:47:35.283984Z"
    }
   },
   "source": "import pandas as pd",
   "outputs": [],
   "execution_count": 1
  },
  {
   "metadata": {
    "ExecuteTime": {
     "end_time": "2024-12-26T08:48:43.231337Z",
     "start_time": "2024-12-26T08:48:17.617257Z"
    }
   },
   "cell_type": "code",
   "source": [
    "train_path = \"train\"\n",
    "val_path = \"val\"\n",
    "test_path = \"test\"\n",
    "train_users = pd.read_csv(f\"{train_path}/train_users.csv\")\n",
    "train_reviews = pd.read_csv(f\"{train_path}/train_reviews.csv\")\n",
    "train_matches = pd.read_csv(f\"{train_path}/train_matches.csv\")\n",
    "\n",
    "frac_of_train_set = 1\n",
    "train_users = train_users.sample(frac=frac_of_train_set, random_state=42).reset_index(drop=True)\n",
    "train_reviews = train_reviews.sample(frac=frac_of_train_set, random_state=42).reset_index(drop=True)\n",
    "train_matches = train_matches.sample(frac=frac_of_train_set, random_state=42).reset_index(drop=True)\n",
    "print(f\"Loaded {frac_of_train_set} of the training data\")\n",
    "\n",
    "val_users = pd.read_csv(f\"{val_path}/val_users.csv\")\n",
    "val_reviews = pd.read_csv(f\"{val_path}/val_reviews.csv\")\n",
    "val_matches = pd.read_csv(f\"{val_path}/val_matches.csv\")\n",
    "print(\"Loaded validation data\")\n",
    "\n",
    "test_users = pd.read_csv(f\"{test_path}/test_users.csv\")\n",
    "test_reviews = pd.read_csv(f\"{test_path}/test_reviews.csv\")\n",
    "print(\"Loaded test data\")"
   ],
   "id": "5a367366a95cf3",
   "outputs": [
    {
     "name": "stdout",
     "output_type": "stream",
     "text": [
      "Loaded 1 of the training data\n",
      "Loaded validation data\n",
      "Loaded test data\n"
     ]
    }
   ],
   "execution_count": 2
  },
  {
   "metadata": {
    "ExecuteTime": {
     "end_time": "2024-12-26T08:49:15.954235Z",
     "start_time": "2024-12-26T08:49:15.940779Z"
    }
   },
   "cell_type": "code",
   "source": "test_reviews.shape",
   "id": "936be651ed4b207d",
   "outputs": [
    {
     "data": {
      "text/plain": [
       "(199138, 7)"
      ]
     },
     "execution_count": 5,
     "metadata": {},
     "output_type": "execute_result"
    }
   ],
   "execution_count": 5
  },
  {
   "metadata": {},
   "cell_type": "code",
   "outputs": [],
   "execution_count": null,
   "source": "",
   "id": "9f42875270618fff"
  }
 ],
 "metadata": {
  "kernelspec": {
   "display_name": "Python 3",
   "language": "python",
   "name": "python3"
  },
  "language_info": {
   "codemirror_mode": {
    "name": "ipython",
    "version": 2
   },
   "file_extension": ".py",
   "mimetype": "text/x-python",
   "name": "python",
   "nbconvert_exporter": "python",
   "pygments_lexer": "ipython2",
   "version": "2.7.6"
  }
 },
 "nbformat": 4,
 "nbformat_minor": 5
}
