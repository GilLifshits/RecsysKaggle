{
 "cells": [
  {
   "metadata": {},
   "cell_type": "markdown",
   "source": "### Imports",
   "id": "d772e6153eba2b1b"
  },
  {
   "cell_type": "code",
   "id": "initial_id",
   "metadata": {
    "collapsed": true,
    "ExecuteTime": {
     "end_time": "2024-12-24T14:58:32.479445Z",
     "start_time": "2024-12-24T14:58:30.283762Z"
    }
   },
   "source": "import pandas as pd",
   "outputs": [],
   "execution_count": 4
  },
  {
   "metadata": {},
   "cell_type": "markdown",
   "source": "### Load data",
   "id": "5d6e1de6ac6dcf97"
  },
  {
   "metadata": {
    "ExecuteTime": {
     "end_time": "2024-12-24T14:58:47.751067Z",
     "start_time": "2024-12-24T14:58:32.490419Z"
    }
   },
   "cell_type": "code",
   "source": [
    "train_users = pd.read_csv(\"train/train_users.csv\")\n",
    "train_reviews = pd.read_csv(\"train/train_reviews.csv\")\n",
    "train_matches = pd.read_csv(\"train/train_matches.csv\")"
   ],
   "id": "6c9b1248cd133740",
   "outputs": [],
   "execution_count": 5
  },
  {
   "metadata": {
    "ExecuteTime": {
     "end_time": "2024-12-24T15:00:21.582152Z",
     "start_time": "2024-12-24T15:00:21.563728Z"
    }
   },
   "cell_type": "code",
   "source": "train_matches.columns",
   "id": "c341cfaffd67c076",
   "outputs": [
    {
     "data": {
      "text/plain": [
       "Index(['accommodation_id', 'review_id', 'user_id'], dtype='object')"
      ]
     },
     "execution_count": 12,
     "metadata": {},
     "output_type": "execute_result"
    }
   ],
   "execution_count": 12
  },
  {
   "metadata": {
    "ExecuteTime": {
     "end_time": "2024-12-24T14:58:48.107899Z",
     "start_time": "2024-12-24T14:58:48.093534Z"
    }
   },
   "cell_type": "code",
   "source": "",
   "id": "3dcbb179b921b87c",
   "outputs": [],
   "execution_count": null
  }
 ],
 "metadata": {
  "kernelspec": {
   "display_name": "Python 3",
   "language": "python",
   "name": "python3"
  },
  "language_info": {
   "codemirror_mode": {
    "name": "ipython",
    "version": 2
   },
   "file_extension": ".py",
   "mimetype": "text/x-python",
   "name": "python",
   "nbconvert_exporter": "python",
   "pygments_lexer": "ipython2",
   "version": "2.7.6"
  }
 },
 "nbformat": 4,
 "nbformat_minor": 5
}
