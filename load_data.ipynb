{
 "cells": [
  {
   "metadata": {},
   "cell_type": "markdown",
   "source": "### Imports",
   "id": "d772e6153eba2b1b"
  },
  {
   "cell_type": "code",
   "id": "initial_id",
   "metadata": {
    "collapsed": true,
    "ExecuteTime": {
     "end_time": "2024-12-24T10:39:54.975270Z",
     "start_time": "2024-12-24T10:39:53.531984Z"
    }
   },
   "source": "import pandas as pd",
   "outputs": [],
   "execution_count": 2
  },
  {
   "metadata": {},
   "cell_type": "markdown",
   "source": "### Load data",
   "id": "5d6e1de6ac6dcf97"
  },
  {
   "metadata": {
    "ExecuteTime": {
     "end_time": "2024-12-24T10:41:05.448112Z",
     "start_time": "2024-12-24T10:40:49.501281Z"
    }
   },
   "cell_type": "code",
   "source": [
    "train_users = pd.read_csv(\"data/train_users.csv\")\n",
    "train_reviews = pd.read_csv(\"data/train_reviews.csv\")\n",
    "train_matches = pd.read_csv(\"data/train_matches.csv\")"
   ],
   "id": "6c9b1248cd133740",
   "outputs": [],
   "execution_count": 3
  },
  {
   "metadata": {
    "ExecuteTime": {
     "end_time": "2024-12-24T10:42:08.423308Z",
     "start_time": "2024-12-24T10:42:08.397920Z"
    }
   },
   "cell_type": "code",
   "source": "train_matches",
   "id": "c341cfaffd67c076",
   "outputs": [
    {
     "data": {
      "text/plain": [
       "         accommodation_id                             review_id  \\\n",
       "0               842298552  9b7015a7-73a2-4ce0-94ff-309f27d1f5fb   \n",
       "1              1596437394  826320b2-f123-42f7-b5b9-6df66895f959   \n",
       "2             -1257837707  34b17750-7827-45f7-a797-42b92f427a8f   \n",
       "3               760669881  51153c31-19d4-4d93-807d-c0a55ff3eb91   \n",
       "4             -1914121319  9741bdd6-91cf-4ed5-9f6b-761222eb5533   \n",
       "...                   ...                                   ...   \n",
       "1628984        1171558513  82491a70-d8e5-43f6-a6c9-4fb1400ec963   \n",
       "1628985        1767217018  482b9268-2da0-4b1f-822c-c0c556f3114d   \n",
       "1628986       -1214234323  7e09a722-1fd5-4640-bb68-cf3e4814f856   \n",
       "1628987       -1000262988  d6e48081-6ec7-4545-a6c6-2040dcf73de8   \n",
       "1628988         356642133  a318aea7-b65d-418b-816c-0a40025e800e   \n",
       "\n",
       "                                      user_id  \n",
       "0        495ef092-0399-4fcf-a6d1-7b4f52b7de04  \n",
       "1        312f1bc9-fdd9-4f3c-ac9e-5821919eebf7  \n",
       "2        80f94a05-de92-49fb-b259-dd1c34bcf442  \n",
       "3        3821d21d-d973-4b36-bc03-1b986c67759c  \n",
       "4        5e43d83e-8e68-4b33-a43b-794db3272e72  \n",
       "...                                       ...  \n",
       "1628984  92df1725-9350-4071-adf5-4b4ae55f3d20  \n",
       "1628985  11f57e46-8912-4195-83af-a68f4d29ae47  \n",
       "1628986  0c0deedf-2c7c-4219-962f-99bb1bee7f8f  \n",
       "1628987  944f1822-dae2-4a2d-b1ba-194e7639eb93  \n",
       "1628988  c05f1704-68c5-4a10-baf7-b9174f34dcfb  \n",
       "\n",
       "[1628989 rows x 3 columns]"
      ],
      "text/html": [
       "<div>\n",
       "<style scoped>\n",
       "    .dataframe tbody tr th:only-of-type {\n",
       "        vertical-align: middle;\n",
       "    }\n",
       "\n",
       "    .dataframe tbody tr th {\n",
       "        vertical-align: top;\n",
       "    }\n",
       "\n",
       "    .dataframe thead th {\n",
       "        text-align: right;\n",
       "    }\n",
       "</style>\n",
       "<table border=\"1\" class=\"dataframe\">\n",
       "  <thead>\n",
       "    <tr style=\"text-align: right;\">\n",
       "      <th></th>\n",
       "      <th>accommodation_id</th>\n",
       "      <th>review_id</th>\n",
       "      <th>user_id</th>\n",
       "    </tr>\n",
       "  </thead>\n",
       "  <tbody>\n",
       "    <tr>\n",
       "      <th>0</th>\n",
       "      <td>842298552</td>\n",
       "      <td>9b7015a7-73a2-4ce0-94ff-309f27d1f5fb</td>\n",
       "      <td>495ef092-0399-4fcf-a6d1-7b4f52b7de04</td>\n",
       "    </tr>\n",
       "    <tr>\n",
       "      <th>1</th>\n",
       "      <td>1596437394</td>\n",
       "      <td>826320b2-f123-42f7-b5b9-6df66895f959</td>\n",
       "      <td>312f1bc9-fdd9-4f3c-ac9e-5821919eebf7</td>\n",
       "    </tr>\n",
       "    <tr>\n",
       "      <th>2</th>\n",
       "      <td>-1257837707</td>\n",
       "      <td>34b17750-7827-45f7-a797-42b92f427a8f</td>\n",
       "      <td>80f94a05-de92-49fb-b259-dd1c34bcf442</td>\n",
       "    </tr>\n",
       "    <tr>\n",
       "      <th>3</th>\n",
       "      <td>760669881</td>\n",
       "      <td>51153c31-19d4-4d93-807d-c0a55ff3eb91</td>\n",
       "      <td>3821d21d-d973-4b36-bc03-1b986c67759c</td>\n",
       "    </tr>\n",
       "    <tr>\n",
       "      <th>4</th>\n",
       "      <td>-1914121319</td>\n",
       "      <td>9741bdd6-91cf-4ed5-9f6b-761222eb5533</td>\n",
       "      <td>5e43d83e-8e68-4b33-a43b-794db3272e72</td>\n",
       "    </tr>\n",
       "    <tr>\n",
       "      <th>...</th>\n",
       "      <td>...</td>\n",
       "      <td>...</td>\n",
       "      <td>...</td>\n",
       "    </tr>\n",
       "    <tr>\n",
       "      <th>1628984</th>\n",
       "      <td>1171558513</td>\n",
       "      <td>82491a70-d8e5-43f6-a6c9-4fb1400ec963</td>\n",
       "      <td>92df1725-9350-4071-adf5-4b4ae55f3d20</td>\n",
       "    </tr>\n",
       "    <tr>\n",
       "      <th>1628985</th>\n",
       "      <td>1767217018</td>\n",
       "      <td>482b9268-2da0-4b1f-822c-c0c556f3114d</td>\n",
       "      <td>11f57e46-8912-4195-83af-a68f4d29ae47</td>\n",
       "    </tr>\n",
       "    <tr>\n",
       "      <th>1628986</th>\n",
       "      <td>-1214234323</td>\n",
       "      <td>7e09a722-1fd5-4640-bb68-cf3e4814f856</td>\n",
       "      <td>0c0deedf-2c7c-4219-962f-99bb1bee7f8f</td>\n",
       "    </tr>\n",
       "    <tr>\n",
       "      <th>1628987</th>\n",
       "      <td>-1000262988</td>\n",
       "      <td>d6e48081-6ec7-4545-a6c6-2040dcf73de8</td>\n",
       "      <td>944f1822-dae2-4a2d-b1ba-194e7639eb93</td>\n",
       "    </tr>\n",
       "    <tr>\n",
       "      <th>1628988</th>\n",
       "      <td>356642133</td>\n",
       "      <td>a318aea7-b65d-418b-816c-0a40025e800e</td>\n",
       "      <td>c05f1704-68c5-4a10-baf7-b9174f34dcfb</td>\n",
       "    </tr>\n",
       "  </tbody>\n",
       "</table>\n",
       "<p>1628989 rows × 3 columns</p>\n",
       "</div>"
      ]
     },
     "execution_count": 6,
     "metadata": {},
     "output_type": "execute_result"
    }
   ],
   "execution_count": 6
  },
  {
   "metadata": {},
   "cell_type": "code",
   "outputs": [],
   "execution_count": null,
   "source": "",
   "id": "3dcbb179b921b87c"
  }
 ],
 "metadata": {
  "kernelspec": {
   "display_name": "Python 3",
   "language": "python",
   "name": "python3"
  },
  "language_info": {
   "codemirror_mode": {
    "name": "ipython",
    "version": 2
   },
   "file_extension": ".py",
   "mimetype": "text/x-python",
   "name": "python",
   "nbconvert_exporter": "python",
   "pygments_lexer": "ipython2",
   "version": "2.7.6"
  }
 },
 "nbformat": 4,
 "nbformat_minor": 5
}
